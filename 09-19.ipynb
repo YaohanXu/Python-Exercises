{
 "cells": [
  {
   "cell_type": "code",
   "execution_count": 2,
   "metadata": {},
   "outputs": [
    {
     "name": "stdout",
     "output_type": "stream",
     "text": [
      "The total candles are 21\n"
     ]
    }
   ],
   "source": [
    "def sum_of_ages():\n",
    "    while True:\n",
    "        try:\n",
    "            age = int(input(\"Enter your age: \"))\n",
    "            if age > 0:\n",
    "                break\n",
    "            else:\n",
    "                print(\"Enter an integer: \")\n",
    "        except ValueError:\n",
    "            print(\"Enter an integer: \")\n",
    "\n",
    "    total = sum(range(1, age + 1))\n",
    "    print(f\"The total candles are {total}\")\n",
    "\n",
    "sum_of_ages()"
   ]
  }
 ],
 "metadata": {
  "kernelspec": {
   "display_name": "penn_python",
   "language": "python",
   "name": "python3"
  },
  "language_info": {
   "codemirror_mode": {
    "name": "ipython",
    "version": 3
   },
   "file_extension": ".py",
   "mimetype": "text/x-python",
   "name": "python",
   "nbconvert_exporter": "python",
   "pygments_lexer": "ipython3",
   "version": "3.10.12"
  }
 },
 "nbformat": 4,
 "nbformat_minor": 2
}
